{
 "cells": [
  {
   "cell_type": "markdown",
   "metadata": {},
   "source": [
    "# Projeto de Reinforcement Learning\n",
    "\n",
    "Environment: Knighs Archers Zombies\n",
    "\n",
    "---\n",
    "Esse arquivo é uma cópia dos cnn.py + env_setup.py + DQN.py + PPO.py, mas em versão notebook e\n",
    "\n",
    "possui uma visualização melhor do dataframe resultado do tuner usando a bibliboteca ipywidgets."
   ]
  },
  {
   "cell_type": "code",
   "execution_count": 1,
   "metadata": {},
   "outputs": [
    {
     "name": "stderr",
     "output_type": "stream",
     "text": [
      "2023-09-11 16:15:27,904\tWARNING deprecation.py:50 -- DeprecationWarning: `DirectStepOptimizer` has been deprecated. This will raise an error in the future!\n",
      "2023-09-11 16:15:28,587\tWARNING deprecation.py:50 -- DeprecationWarning: `build_tf_policy` has been deprecated. This will raise an error in the future!\n",
      "2023-09-11 16:15:28,602\tWARNING deprecation.py:50 -- DeprecationWarning: `build_policy_class` has been deprecated. This will raise an error in the future!\n"
     ]
    }
   ],
   "source": [
    "# Para utilizar os algoritmos PPO e DQN\n",
    "import os\n",
    "import ray\n",
    "from ray import tune\n",
    "from ray.air import session, RunConfig, CheckpointConfig\n",
    "from ray.air.checkpoint import Checkpoint\n",
    "from ray.rllib.algorithms.dqn import DQNConfig, DQN\n",
    "from ray.rllib.algorithms.ppo import PPOConfig, PPO\n",
    "from ray.rllib.env.wrappers.pettingzoo_env import ParallelPettingZooEnv, PettingZooEnv\n",
    "from ray.rllib.models import ModelCatalog\n",
    "from ray.rllib.models.torch.torch_modelv2 import TorchModelV2\n",
    "from ray.tune.registry import register_env\n",
    "from torch import nn\n",
    "\n",
    "# Para preparar o ambiente\n",
    "from pettingzoo.butterfly import knights_archers_zombies_v10\n",
    "import supersuit as ss\n",
    "\n",
    "# Para visualizar resultado do tuner\n",
    "from ipywidgets import interact, interactive, IntSlider, SelectionSlider, Dropdown, Checkbox\n",
    "import pandas as pd"
   ]
  },
  {
   "cell_type": "code",
   "execution_count": 2,
   "metadata": {},
   "outputs": [
    {
     "name": "stderr",
     "output_type": "stream",
     "text": [
      "2023-09-11 16:15:38,177\tINFO worker.py:1621 -- Started a local Ray instance.\n"
     ]
    },
    {
     "data": {
      "application/vnd.jupyter.widget-view+json": {
       "model_id": "3ae74e991d3148599e3fc1c42302bea3",
       "version_major": 2,
       "version_minor": 0
      },
      "text/html": [
       "<div class=\"lm-Widget p-Widget lm-Panel p-Panel jp-Cell-outputWrapper\">\n",
       "    <div style=\"margin-left: 50px;display: flex;flex-direction: row;align-items: center\">\n",
       "        <div class=\"jp-RenderedHTMLCommon\" style=\"display: flex; flex-direction: row;\">\n",
       "  <svg viewBox=\"0 0 567 224\" fill=\"none\" xmlns=\"http://www.w3.org/2000/svg\" style=\"height: 3em;\">\n",
       "    <g clip-path=\"url(#clip0_4338_178347)\">\n",
       "        <path d=\"M341.29 165.561H355.29L330.13 129.051C345.63 123.991 354.21 112.051 354.21 94.2307C354.21 71.3707 338.72 58.1807 311.88 58.1807H271V165.561H283.27V131.661H311.8C314.25 131.661 316.71 131.501 319.01 131.351L341.25 165.561H341.29ZM283.29 119.851V70.0007H311.82C331.3 70.0007 342.34 78.2907 342.34 94.5507C342.34 111.271 331.34 119.861 311.82 119.861L283.29 119.851ZM451.4 138.411L463.4 165.561H476.74L428.74 58.1807H416L367.83 165.561H380.83L392.83 138.411H451.4ZM446.19 126.601H398L422 72.1407L446.24 126.601H446.19ZM526.11 128.741L566.91 58.1807H554.35L519.99 114.181L485.17 58.1807H472.44L514.01 129.181V165.541H526.13V128.741H526.11Z\" fill=\"var(--jp-ui-font-color0)\"/>\n",
       "        <path d=\"M82.35 104.44C84.0187 97.8827 87.8248 92.0678 93.1671 87.9146C98.5094 83.7614 105.083 81.5067 111.85 81.5067C118.617 81.5067 125.191 83.7614 130.533 87.9146C135.875 92.0678 139.681 97.8827 141.35 104.44H163.75C164.476 101.562 165.622 98.8057 167.15 96.2605L127.45 56.5605C121.071 60.3522 113.526 61.6823 106.235 60.3005C98.9443 58.9187 92.4094 54.9203 87.8602 49.0574C83.3109 43.1946 81.0609 35.8714 81.5332 28.4656C82.0056 21.0599 85.1679 14.0819 90.4252 8.8446C95.6824 3.60726 102.672 0.471508 110.08 0.0272655C117.487 -0.416977 124.802 1.86091 130.647 6.4324C136.493 11.0039 140.467 17.5539 141.821 24.8501C143.175 32.1463 141.816 39.6859 138 46.0505L177.69 85.7505C182.31 82.9877 187.58 81.4995 192.962 81.4375C198.345 81.3755 203.648 82.742 208.33 85.3976C213.012 88.0532 216.907 91.9029 219.616 96.5544C222.326 101.206 223.753 106.492 223.753 111.875C223.753 117.258 222.326 122.545 219.616 127.197C216.907 131.848 213.012 135.698 208.33 138.353C203.648 141.009 198.345 142.375 192.962 142.313C187.58 142.251 182.31 140.763 177.69 138L138 177.7C141.808 184.071 143.155 191.614 141.79 198.91C140.424 206.205 136.44 212.75 130.585 217.313C124.731 221.875 117.412 224.141 110.004 223.683C102.596 223.226 95.6103 220.077 90.3621 214.828C85.1139 209.58 81.9647 202.595 81.5072 195.187C81.0497 187.779 83.3154 180.459 87.878 174.605C92.4405 168.751 98.9853 164.766 106.281 163.401C113.576 162.035 121.119 163.383 127.49 167.19L167.19 127.49C165.664 124.941 164.518 122.182 163.79 119.3H141.39C139.721 125.858 135.915 131.673 130.573 135.826C125.231 139.98 118.657 142.234 111.89 142.234C105.123 142.234 98.5494 139.98 93.2071 135.826C87.8648 131.673 84.0587 125.858 82.39 119.3H60C58.1878 126.495 53.8086 132.78 47.6863 136.971C41.5641 141.163 34.1211 142.972 26.7579 142.059C19.3947 141.146 12.6191 137.574 7.70605 132.014C2.79302 126.454 0.0813599 119.29 0.0813599 111.87C0.0813599 104.451 2.79302 97.2871 7.70605 91.7272C12.6191 86.1673 19.3947 82.5947 26.7579 81.6817C34.1211 80.7686 41.5641 82.5781 47.6863 86.7696C53.8086 90.9611 58.1878 97.2456 60 104.44H82.35ZM100.86 204.32C103.407 206.868 106.759 208.453 110.345 208.806C113.93 209.159 117.527 208.258 120.522 206.256C123.517 204.254 125.725 201.276 126.771 197.828C127.816 194.38 127.633 190.677 126.253 187.349C124.874 184.021 122.383 181.274 119.205 179.577C116.027 177.88 112.359 177.337 108.826 178.042C105.293 178.746 102.113 180.654 99.8291 183.44C97.5451 186.226 96.2979 189.718 96.3 193.32C96.2985 195.364 96.7006 197.388 97.4831 199.275C98.2656 201.163 99.4132 202.877 100.86 204.32ZM204.32 122.88C206.868 120.333 208.453 116.981 208.806 113.396C209.159 109.811 208.258 106.214 206.256 103.219C204.254 100.223 201.275 98.0151 197.827 96.97C194.38 95.9249 190.676 96.1077 187.348 97.4873C184.02 98.8669 181.274 101.358 179.577 104.536C177.879 107.714 177.337 111.382 178.041 114.915C178.746 118.448 180.653 121.627 183.439 123.911C186.226 126.195 189.717 127.443 193.32 127.44C195.364 127.443 197.388 127.042 199.275 126.259C201.163 125.476 202.878 124.328 204.32 122.88ZM122.88 19.4205C120.333 16.8729 116.981 15.2876 113.395 14.9347C109.81 14.5817 106.213 15.483 103.218 17.4849C100.223 19.4868 98.0146 22.4654 96.9696 25.9131C95.9245 29.3608 96.1073 33.0642 97.4869 36.3922C98.8665 39.7202 101.358 42.4668 104.535 44.1639C107.713 45.861 111.381 46.4036 114.914 45.6992C118.447 44.9949 121.627 43.0871 123.911 40.301C126.195 37.515 127.442 34.0231 127.44 30.4205C127.44 28.3772 127.038 26.3539 126.255 24.4664C125.473 22.5788 124.326 20.8642 122.88 19.4205ZM19.42 100.86C16.8725 103.408 15.2872 106.76 14.9342 110.345C14.5813 113.93 15.4826 117.527 17.4844 120.522C19.4863 123.518 22.4649 125.726 25.9127 126.771C29.3604 127.816 33.0638 127.633 36.3918 126.254C39.7198 124.874 42.4664 122.383 44.1635 119.205C45.8606 116.027 46.4032 112.359 45.6988 108.826C44.9944 105.293 43.0866 102.114 40.3006 99.8296C37.5145 97.5455 34.0227 96.2983 30.42 96.3005C26.2938 96.3018 22.337 97.9421 19.42 100.86ZM100.86 100.86C98.3125 103.408 96.7272 106.76 96.3742 110.345C96.0213 113.93 96.9226 117.527 98.9244 120.522C100.926 123.518 103.905 125.726 107.353 126.771C110.8 127.816 114.504 127.633 117.832 126.254C121.16 124.874 123.906 122.383 125.604 119.205C127.301 116.027 127.843 112.359 127.139 108.826C126.434 105.293 124.527 102.114 121.741 99.8296C118.955 97.5455 115.463 96.2983 111.86 96.3005C109.817 96.299 107.793 96.701 105.905 97.4835C104.018 98.2661 102.303 99.4136 100.86 100.86Z\" fill=\"#00AEEF\"/>\n",
       "    </g>\n",
       "    <defs>\n",
       "        <clipPath id=\"clip0_4338_178347\">\n",
       "            <rect width=\"566.93\" height=\"223.75\" fill=\"white\"/>\n",
       "        </clipPath>\n",
       "    </defs>\n",
       "  </svg>\n",
       "</div>\n",
       "\n",
       "        <table class=\"jp-RenderedHTMLCommon\" style=\"border-collapse: collapse;color: var(--jp-ui-font-color1);font-size: var(--jp-ui-font-size1);\">\n",
       "    <tr>\n",
       "        <td style=\"text-align: left\"><b>Python version:</b></td>\n",
       "        <td style=\"text-align: left\"><b>3.9.17</b></td>\n",
       "    </tr>\n",
       "    <tr>\n",
       "        <td style=\"text-align: left\"><b>Ray version:</b></td>\n",
       "        <td style=\"text-align: left\"><b>2.6.3</b></td>\n",
       "    </tr>\n",
       "    \n",
       "</table>\n",
       "\n",
       "    </div>\n",
       "</div>\n"
      ],
      "text/plain": [
       "RayContext(dashboard_url='', python_version='3.9.17', ray_version='2.6.3', ray_commit='8a434b4ee7cd48e60fa1531315d39901fac5d79e', protocol_version=None)"
      ]
     },
     "execution_count": 2,
     "metadata": {},
     "output_type": "execute_result"
    }
   ],
   "source": [
    "ray.init(\n",
    "    num_cpus=12, # Número máximo de CPUs que o ray.tune pode utilizar\n",
    "    num_gpus=1 # Número máximo de GPUs que o ray.tune pode utilizar\n",
    ")\n",
    "# O número de CPUs e GPUs verdadeiramente utilizados é definido nas \n",
    "# configurações num_rollout_workers(cpus) e num_gpus do algoritmo.\n",
    "# Aviso: \"num_rollout_workers\" deve ser \"num_cpus -1\" para deixar 1 CPU para o \n",
    "# processo desse script que também roda um rollout_workers"
   ]
  },
  {
   "cell_type": "markdown",
   "metadata": {},
   "source": [
    "### Definição da rede convolucional"
   ]
  },
  {
   "cell_type": "code",
   "execution_count": 3,
   "metadata": {},
   "outputs": [],
   "source": [
    "class CNNModelV2(TorchModelV2, nn.Module):\n",
    "    def __init__(self, obs_space, act_space, num_outputs, *args, **kwargs):\n",
    "        TorchModelV2.__init__(self, obs_space, act_space, num_outputs, *args, **kwargs)\n",
    "        nn.Module.__init__(self)\n",
    "        self.model = nn.Sequential(\n",
    "            nn.Conv2d(3, 32, [8, 8], stride=(4, 4)),\n",
    "            nn.ReLU(),\n",
    "            nn.Conv2d(32, 64, [4, 4], stride=(2, 2)),\n",
    "            nn.ReLU(),\n",
    "            nn.Conv2d(64, 64, [3, 3], stride=(1, 1)),\n",
    "            nn.ReLU(),\n",
    "            nn.Flatten(),\n",
    "            nn.Linear(3136, 512),\n",
    "            nn.ReLU(),\n",
    "        )\n",
    "        self.policy_fn = nn.Linear(512, num_outputs)\n",
    "        self.value_fn = nn.Linear(512, 1)\n",
    "\n",
    "    def forward(self, input_dict, state, seq_lens):\n",
    "        model_out = self.model(input_dict[\"obs\"].permute(0, 3, 1, 2))\n",
    "        self._value_out = self.value_fn(model_out)\n",
    "        return self.policy_fn(model_out), state\n",
    "\n",
    "    def value_function(self):\n",
    "        return self._value_out.flatten()\n",
    "    \n",
    "# Registra o modelo para o RAY encontrar e usar\n",
    "ModelCatalog.register_custom_model(\"CNNModelV2\", CNNModelV2)"
   ]
  },
  {
   "cell_type": "markdown",
   "metadata": {},
   "source": [
    "### Setup environment"
   ]
  },
  {
   "cell_type": "code",
   "execution_count": 4,
   "metadata": {},
   "outputs": [],
   "source": [
    "def env_creator(args):\n",
    "    env = knights_archers_zombies_v10.parallel_env(\n",
    "        spawn_rate=5,\n",
    "        num_archers=1, # <--- Single agent env, mas ainda é tratado como multi-agent\n",
    "        num_knights=0,\n",
    "        max_zombies=5,\n",
    "        max_arrows=20,\n",
    "        killable_knights=True,\n",
    "        killable_archers=True,\n",
    "        pad_observation=True,\n",
    "        line_death=False,\n",
    "        max_cycles=900,\n",
    "        vector_state=False, # <--- Observação em formato de imagem\n",
    "        use_typemasks=False,\n",
    "    )\n",
    "    env = ss.color_reduction_v0(env, mode=\"B\")\n",
    "    env = ss.dtype_v0(env, \"float32\")\n",
    "    env = ss.resize_v1(env, x_size=84, y_size=84)\n",
    "    env = ss.normalize_obs_v0(env, env_min=0, env_max=1)\n",
    "    env = ss.frame_stack_v1(env, 3)\n",
    "    return env\n",
    "\n",
    "# Resgista o custom environment para RAY encontrar pelo nome\n",
    "# paralell = permite usar mais de 1 cpu para treinar\n",
    "env_name = \"knights_archers_zombies_v10\"\n",
    "register_env(\n",
    "    env_name, \n",
    "    lambda config: ParallelPettingZooEnv(env_creator(config))\n",
    ")"
   ]
  },
  {
   "cell_type": "markdown",
   "metadata": {},
   "source": [
    "### Configuração e run do DQN"
   ]
  },
  {
   "cell_type": "code",
   "execution_count": 5,
   "metadata": {},
   "outputs": [
    {
     "name": "stderr",
     "output_type": "stream",
     "text": [
      "2023-09-11 16:15:43,029\tINFO tune.py:657 -- [output] This uses the legacy output and progress reporter, as Jupyter notebooks are not supported by the new engine, yet. For more information, please see https://github.com/ray-project/ray/issues/36949\n"
     ]
    },
    {
     "name": "stderr",
     "output_type": "stream",
     "text": [
      "2023-09-11 16:15:43,031\tWARNING syncer.py:260 -- You are using remote storage, but you don't have `fsspec` installed. This can lead to inefficient syncing behavior. To avoid this, install fsspec with `pip install fsspec`. Depending on your remote storage provider, consider installing the respective fsspec-package (see https://github.com/fsspec).\n"
     ]
    },
    {
     "name": "stdout",
     "output_type": "stream",
     "text": [
      "Começou run\n"
     ]
    },
    {
     "name": "stderr",
     "output_type": "stream",
     "text": [
      "c:\\Users\\victo\\Desktop\\RL\\.conda\\lib\\site-packages\\ray\\tune\\tune.py:735: DeprecationWarning: checkpoint_freq is deprecated and will be removed. use checkpoint_config.checkpoint_frequency instead.\n",
      "  warnings.warn(\n",
      "2023-09-11 16:15:43,520\tWARNING algorithm_config.py:2558 -- Setting `exploration_config={}` because you set `_enable_rl_module_api=True`. When RLModule API are enabled, exploration_config can not be set. If you want to implement custom exploration behaviour, please modify the `forward_exploration` method of the RLModule at hand. On configs that have a default exploration config, this must be done with `config.exploration_config={}`.\n",
      "c:\\Users\\victo\\Desktop\\RL\\.conda\\lib\\site-packages\\gymnasium\\spaces\\box.py:127: UserWarning: \u001b[33mWARN: Box bound precision lowered by casting to float32\u001b[0m\n",
      "  logger.warn(f\"Box bound precision lowered by casting to {self.dtype}\")\n",
      "c:\\Users\\victo\\Desktop\\RL\\.conda\\lib\\site-packages\\gymnasium\\utils\\passive_env_checker.py:141: UserWarning: \u001b[33mWARN: The obs returned by the `reset()` method was expecting numpy array dtype to be float32, actual type: float64\u001b[0m\n",
      "  logger.warn(\n",
      "c:\\Users\\victo\\Desktop\\RL\\.conda\\lib\\site-packages\\gymnasium\\utils\\passive_env_checker.py:165: UserWarning: \u001b[33mWARN: The obs returned by the `reset()` method is not within the observation space.\u001b[0m\n",
      "  logger.warn(f\"{pre} is not within the observation space.\")\n",
      "2023-09-11 16:15:43,943\tWARNING algorithm_config.py:2558 -- Setting `exploration_config={}` because you set `_enable_rl_module_api=True`. When RLModule API are enabled, exploration_config can not be set. If you want to implement custom exploration behaviour, please modify the `forward_exploration` method of the RLModule at hand. On configs that have a default exploration config, this must be done with `config.exploration_config={}`.\n"
     ]
    },
    {
     "data": {
      "text/html": [
       "<div class=\"tuneStatus\">\n",
       "  <div style=\"display: flex;flex-direction: row\">\n",
       "    <div style=\"display: flex;flex-direction: column;\">\n",
       "      <h3>Tune Status</h3>\n",
       "      <table>\n",
       "<tbody>\n",
       "<tr><td>Current time:</td><td>2023-09-11 16:16:24</td></tr>\n",
       "<tr><td>Running for: </td><td>00:00:40.16        </td></tr>\n",
       "<tr><td>Memory:      </td><td>11.1/15.9 GiB      </td></tr>\n",
       "</tbody>\n",
       "</table>\n",
       "    </div>\n",
       "    <div class=\"vDivider\"></div>\n",
       "    <div class=\"systemInfo\">\n",
       "      <h3>System Info</h3>\n",
       "      Using FIFO scheduling algorithm.<br>Logical resource usage: 6.0/12 CPUs, 0/1 GPUs (0.0/1.0 accelerator_type:G)\n",
       "    </div>\n",
       "    \n",
       "  </div>\n",
       "  <div class=\"hDivider\"></div>\n",
       "  <div class=\"trialStatus\">\n",
       "    <h3>Trial Status</h3>\n",
       "    <table>\n",
       "<thead>\n",
       "<tr><th>Trial name                                 </th><th>status    </th><th>loc           </th><th style=\"text-align: right;\">  iter</th><th style=\"text-align: right;\">  total time (s)</th><th style=\"text-align: right;\">  ts</th><th style=\"text-align: right;\">  reward</th><th style=\"text-align: right;\">  episode_reward_max</th><th style=\"text-align: right;\">  episode_reward_min</th><th style=\"text-align: right;\">  episode_len_mean</th></tr>\n",
       "</thead>\n",
       "<tbody>\n",
       "<tr><td>DQN_knights_archers_zombies_v10_9ac7c_00000</td><td>TERMINATED</td><td>127.0.0.1:6440</td><td style=\"text-align: right;\">     1</td><td style=\"text-align: right;\">         12.3801</td><td style=\"text-align: right;\">1000</td><td style=\"text-align: right;\">     2.8</td><td style=\"text-align: right;\">                   4</td><td style=\"text-align: right;\">                   2</td><td style=\"text-align: right;\">               151</td></tr>\n",
       "</tbody>\n",
       "</table>\n",
       "  </div>\n",
       "</div>\n",
       "<style>\n",
       ".tuneStatus {\n",
       "  color: var(--jp-ui-font-color1);\n",
       "}\n",
       ".tuneStatus .systemInfo {\n",
       "  display: flex;\n",
       "  flex-direction: column;\n",
       "}\n",
       ".tuneStatus td {\n",
       "  white-space: nowrap;\n",
       "}\n",
       ".tuneStatus .trialStatus {\n",
       "  display: flex;\n",
       "  flex-direction: column;\n",
       "}\n",
       ".tuneStatus h3 {\n",
       "  font-weight: bold;\n",
       "}\n",
       ".tuneStatus .hDivider {\n",
       "  border-bottom-width: var(--jp-border-width);\n",
       "  border-bottom-color: var(--jp-border-color0);\n",
       "  border-bottom-style: solid;\n",
       "}\n",
       ".tuneStatus .vDivider {\n",
       "  border-left-width: var(--jp-border-width);\n",
       "  border-left-color: var(--jp-border-color0);\n",
       "  border-left-style: solid;\n",
       "  margin: 0.5em 1em 0.5em 1em;\n",
       "}\n",
       "</style>\n"
      ],
      "text/plain": [
       "<IPython.core.display.HTML object>"
      ]
     },
     "metadata": {},
     "output_type": "display_data"
    },
    {
     "name": "stderr",
     "output_type": "stream",
     "text": [
      "\u001b[2m\u001b[36m(pid=6440)\u001b[0m c:\\Users\\victo\\Desktop\\RL\\.conda\\lib\\site-packages\\ray\\tune\\logger\\tensorboardx.py:41: DeprecationWarning: `np.bool8` is a deprecated alias for `np.bool_`.  (Deprecated NumPy 1.24)\n",
      "\u001b[2m\u001b[36m(pid=6440)\u001b[0m   VALID_NP_HPARAMS = (np.bool8, np.float32, np.float64, np.int32, np.int64)\n",
      "\u001b[2m\u001b[36m(pid=6440)\u001b[0m DeprecationWarning: `DirectStepOptimizer` has been deprecated. This will raise an error in the future!\n",
      "\u001b[2m\u001b[36m(pid=6440)\u001b[0m 2023-09-11 16:15:58,593\tWARNING deprecation.py:50 -- DeprecationWarning: `build_tf_policy` has been deprecated. This will raise an error in the future!\n",
      "\u001b[2m\u001b[36m(pid=6440)\u001b[0m 2023-09-11 16:15:58,605\tWARNING deprecation.py:50 -- DeprecationWarning: `build_policy_class` has been deprecated. This will raise an error in the future!\n",
      "\u001b[2m\u001b[36m(DQN pid=6440)\u001b[0m 2023-09-11 16:15:58,614\tWARNING deprecation.py:50 -- DeprecationWarning: `rllib/algorithms/simple_q/` has been deprecated. Use `rllib_contrib/simple_q/` instead. This will raise an error in the future!\n",
      "\u001b[2m\u001b[36m(DQN pid=6440)\u001b[0m 2023-09-11 16:15:58,614\tWARNING algorithm_config.py:656 -- Cannot create DQNConfig from given `config_dict`! Property __stdout_file__ not supported.\n",
      "\u001b[2m\u001b[36m(pid=16564)\u001b[0m c:\\Users\\victo\\Desktop\\RL\\.conda\\lib\\site-packages\\ray\\tune\\logger\\tensorboardx.py:41: DeprecationWarning: `np.bool8` is a deprecated alias for `np.bool_`.  (Deprecated NumPy 1.24)\n",
      "\u001b[2m\u001b[36m(pid=16564)\u001b[0m   VALID_NP_HPARAMS = (np.bool8, np.float32, np.float64, np.int32, np.int64)\n",
      "\u001b[2m\u001b[36m(pid=5148)\u001b[0m c:\\Users\\victo\\Desktop\\RL\\.conda\\lib\\site-packages\\ray\\tune\\logger\\tensorboardx.py:41: DeprecationWarning: `np.bool8` is a deprecated alias for `np.bool_`.  (Deprecated NumPy 1.24)\n",
      "\u001b[2m\u001b[36m(pid=5148)\u001b[0m   VALID_NP_HPARAMS = (np.bool8, np.float32, np.float64, np.int32, np.int64)\n",
      "\u001b[2m\u001b[36m(pid=5148)\u001b[0m DeprecationWarning: `DirectStepOptimizer` has been deprecated. This will raise an error in the future!\n",
      "\u001b[2m\u001b[36m(RolloutWorker pid=16564)\u001b[0m 2023-09-11 16:16:08,890\tWARNING deprecation.py:50 -- DeprecationWarning: `build_tf_policy` has been deprecated. This will raise an error in the future!\n",
      "\u001b[2m\u001b[36m(RolloutWorker pid=16564)\u001b[0m 2023-09-11 16:16:08,899\tWARNING deprecation.py:50 -- DeprecationWarning: `build_policy_class` has been deprecated. This will raise an error in the future!\n",
      "\u001b[2m\u001b[36m(RolloutWorker pid=7712)\u001b[0m c:\\Users\\victo\\Desktop\\RL\\.conda\\lib\\site-packages\\ray\\rllib\\models\\catalog.py:790: DeprecationWarning: `product` is deprecated as of NumPy 1.25.0, and will be removed in NumPy 2.0. Please use `prod` instead.\n",
      "\u001b[2m\u001b[36m(RolloutWorker pid=7712)\u001b[0m   prep = cls(observation_space, options)\n",
      "\u001b[2m\u001b[36m(RolloutWorker pid=16564)\u001b[0m   self._preprocessor = get_preprocessor(obs_space)(\n",
      "\u001b[2m\u001b[36m(DQN pid=6440)\u001b[0m Trainable.setup took 12.422 seconds. If your trainable is slow to initialize, consider setting reuse_actors=True to reduce actor creation overheads.\n"
     ]
    },
    {
     "data": {
      "text/html": [
       "<div class=\"trialProgress\">\n",
       "  <h3>Trial Progress</h3>\n",
       "  <table>\n",
       "<thead>\n",
       "<tr><th>Trial name                                 </th><th style=\"text-align: right;\">  agent_timesteps_total</th><th>connector_metrics                                                                                                                            </th><th>counters                                                                                                                  </th><th>custom_metrics  </th><th style=\"text-align: right;\">  episode_len_mean</th><th>episode_media  </th><th style=\"text-align: right;\">  episode_reward_max</th><th style=\"text-align: right;\">  episode_reward_mean</th><th style=\"text-align: right;\">  episode_reward_min</th><th style=\"text-align: right;\">  episodes_this_iter</th><th>info                                                                                                                                     </th><th style=\"text-align: right;\">  num_agent_steps_sampled</th><th style=\"text-align: right;\">  num_agent_steps_trained</th><th style=\"text-align: right;\">  num_env_steps_sampled</th><th style=\"text-align: right;\">  num_env_steps_sampled_this_iter</th><th style=\"text-align: right;\">  num_env_steps_sampled_throughput_per_sec</th><th style=\"text-align: right;\">  num_env_steps_trained</th><th style=\"text-align: right;\">  num_env_steps_trained_this_iter</th><th style=\"text-align: right;\">  num_env_steps_trained_throughput_per_sec</th><th style=\"text-align: right;\">  num_faulty_episodes</th><th style=\"text-align: right;\">  num_healthy_workers</th><th style=\"text-align: right;\">  num_in_flight_async_reqs</th><th style=\"text-align: right;\">  num_remote_worker_restarts</th><th style=\"text-align: right;\">  num_steps_trained_this_iter</th><th>perf                                                                                                                               </th><th>policy_reward_max  </th><th>policy_reward_mean  </th><th>policy_reward_min  </th><th>sampler_perf                                                                                                                                                                                                  </th><th>sampler_results                                                                                                                                                                                                                                                                                                                                                                                                                                                                                                                                                                                                                                                                                                                                                                                       </th><th>timers                                                            </th></tr>\n",
       "</thead>\n",
       "<tbody>\n",
       "<tr><td>DQN_knights_archers_zombies_v10_9ac7c_00000</td><td style=\"text-align: right;\">                   1000</td><td>{&#x27;ObsPreprocessorConnector_ms&#x27;: 0.0, &#x27;StateBufferConnector_ms&#x27;: 0.010895729064941406, &#x27;ViewRequirementAgentConnector_ms&#x27;: 0.3677797317504883}</td><td>{&#x27;num_env_steps_sampled&#x27;: 1000, &#x27;num_env_steps_trained&#x27;: 0, &#x27;num_agent_steps_sampled&#x27;: 1000, &#x27;num_agent_steps_trained&#x27;: 0}</td><td>{}              </td><td style=\"text-align: right;\">               151</td><td>{}             </td><td style=\"text-align: right;\">                   4</td><td style=\"text-align: right;\">                  2.8</td><td style=\"text-align: right;\">                   2</td><td style=\"text-align: right;\">                   5</td><td>{&#x27;learner&#x27;: {}, &#x27;num_env_steps_sampled&#x27;: 1000, &#x27;num_env_steps_trained&#x27;: 0, &#x27;num_agent_steps_sampled&#x27;: 1000, &#x27;num_agent_steps_trained&#x27;: 0}</td><td style=\"text-align: right;\">                     1000</td><td style=\"text-align: right;\">                        0</td><td style=\"text-align: right;\">                   1000</td><td style=\"text-align: right;\">                             1000</td><td style=\"text-align: right;\">                                   80.8136</td><td style=\"text-align: right;\">                      0</td><td style=\"text-align: right;\">                                0</td><td style=\"text-align: right;\">                                         0</td><td style=\"text-align: right;\">                    0</td><td style=\"text-align: right;\">                    5</td><td style=\"text-align: right;\">                         0</td><td style=\"text-align: right;\">                           0</td><td style=\"text-align: right;\">                            0</td><td>{&#x27;cpu_util_percent&#x27;: 56.17857142857142, &#x27;ram_util_percent&#x27;: 69.47142857142858, &#x27;gpu_util_percent0&#x27;: 0.0, &#x27;vram_util_percent0&#x27;: 0.0}</td><td>{}                 </td><td>{}                  </td><td>{}                 </td><td>{&#x27;mean_raw_obs_processing_ms&#x27;: 1.4177713821183389, &#x27;mean_inference_ms&#x27;: 18.287872675046394, &#x27;mean_action_processing_ms&#x27;: 0.3018571369683564, &#x27;mean_env_wait_ms&#x27;: 37.67951946353437, &#x27;mean_env_render_ms&#x27;: 0.0}</td><td>{&#x27;episode_reward_max&#x27;: 4.0, &#x27;episode_reward_min&#x27;: 2.0, &#x27;episode_reward_mean&#x27;: 2.8, &#x27;episode_len_mean&#x27;: 151.0, &#x27;episode_media&#x27;: {}, &#x27;episodes_this_iter&#x27;: 5, &#x27;policy_reward_min&#x27;: {}, &#x27;policy_reward_max&#x27;: {}, &#x27;policy_reward_mean&#x27;: {}, &#x27;custom_metrics&#x27;: {}, &#x27;hist_stats&#x27;: {&#x27;episode_reward&#x27;: [4.0, 3.0, 2.0, 3.0, 2.0], &#x27;episode_lengths&#x27;: [153, 148, 153, 148, 153]}, &#x27;sampler_perf&#x27;: {&#x27;mean_raw_obs_processing_ms&#x27;: 1.4177713821183389, &#x27;mean_inference_ms&#x27;: 18.287872675046394, &#x27;mean_action_processing_ms&#x27;: 0.3018571369683564, &#x27;mean_env_wait_ms&#x27;: 37.67951946353437, &#x27;mean_env_render_ms&#x27;: 0.0}, &#x27;num_faulty_episodes&#x27;: 0, &#x27;connector_metrics&#x27;: {&#x27;ObsPreprocessorConnector_ms&#x27;: 0.0, &#x27;StateBufferConnector_ms&#x27;: 0.010895729064941406, &#x27;ViewRequirementAgentConnector_ms&#x27;: 0.3677797317504883}}</td><td>{&#x27;training_iteration_time_ms&#x27;: 612.511, &#x27;sample_time_ms&#x27;: 603.325}</td></tr>\n",
       "</tbody>\n",
       "</table>\n",
       "</div>\n",
       "<style>\n",
       ".trialProgress {\n",
       "  display: flex;\n",
       "  flex-direction: column;\n",
       "  color: var(--jp-ui-font-color1);\n",
       "}\n",
       ".trialProgress h3 {\n",
       "  font-weight: bold;\n",
       "}\n",
       ".trialProgress td {\n",
       "  white-space: nowrap;\n",
       "}\n",
       "</style>\n"
      ],
      "text/plain": [
       "<IPython.core.display.HTML object>"
      ]
     },
     "metadata": {},
     "output_type": "display_data"
    },
    {
     "name": "stderr",
     "output_type": "stream",
     "text": [
      "2023-09-11 16:16:24,781\tINFO tune.py:1148 -- Total run time: 41.75 seconds (40.05 seconds for the tuning loop).\n"
     ]
    },
    {
     "name": "stdout",
     "output_type": "stream",
     "text": [
      "<ray.tune.analysis.experiment_analysis.ExperimentAnalysis object at 0x000001FD0EBF9160>\n"
     ]
    }
   ],
   "source": [
    "config = (\n",
    "    DQNConfig()\n",
    "    .environment(\n",
    "        env=env_name,\n",
    "        disable_env_checking=True # 'True' devido ao erro \"not passing checking\"\n",
    "    )\n",
    "    .rollouts(\n",
    "        num_rollout_workers=5\n",
    "    )\n",
    "    .training(\n",
    "        n_step = 10,\n",
    "        lr = 1e-3,\n",
    "        gamma = 0.95\n",
    "    )\n",
    "    .debugging(log_level=\"ERROR\")\n",
    "    .framework(framework=\"torch\")\n",
    "    .resources(num_gpus=int(os.environ.get(\"RLLIB_NUM_GPUS\", \"0\")))\n",
    ")\n",
    "# Epsilon decrescente\n",
    "config.exploration_config.update({\n",
    "    \"initial_epsilon\": 1.5,\n",
    "    \"final_epsilon\": 0.01,\n",
    "    \"epsilon_timesteps\": 10000,\n",
    "})\n",
    "\n",
    "print(\"Começou run\")\n",
    "trial_response = tune.run(\n",
    "    \"DQN\",\n",
    "    name=\"dqn_notebook\",\n",
    "    stop={\n",
    "        # Critério de parada do experimento\n",
    "        # \"timesteps_total\": 2500,\n",
    "        \"time_total_s\": 10, # 600 segundos = 10 minutos\n",
    "    },\n",
    "    checkpoint_freq=100,\n",
    "    storage_path=\"~\\\\ray_results\\\\\" + env_name,\n",
    "    config=config.to_dict(),\n",
    ")\n",
    "print(trial_response)\n",
    "################################################################################\n",
    "################### Cria e treina o agente DQN por 1 episódio ##################\n",
    "\n",
    "# agent = DQN(config=config)\n",
    "# for episode in range(1):\n",
    "    # train_result = agent.train()\n",
    "# print(train_result)\n",
    "# print(\"=------------------=\")\n",
    "################################################################################\n",
    "####### Prints para observar o output do treinamento sem usar tuner.run() ######\n",
    "\n",
    "# for k in train_result.keys():\n",
    "#     print(k)\n",
    "# train_result['config']\n",
    "# train_result[\"hist_stats\"] # reward por epsisódio\n",
    "# print(\"=------------------=\")\n",
    "################################################################################\n",
    "############# Prints para observar variável retornada por tuner.run ############\n",
    "\n",
    "# df = trial_response.dataframe()\n",
    "# for c in df.columns:\n",
    "#     print(c)\n",
    "# df['episodes_total']\n",
    "# trial_response.results['32fe0_00000']\n",
    "# for k in tuner.results['32fe0_00000'].keys():\n",
    "#     print(k)"
   ]
  },
  {
   "cell_type": "markdown",
   "metadata": {},
   "source": [
    "### Visualização com widgets do dataframe do resultado do tuner\n",
    "\n",
    "Classe InteractableColumnPrinter criada para facilitar a visualização"
   ]
  },
  {
   "cell_type": "code",
   "execution_count": 6,
   "metadata": {},
   "outputs": [
    {
     "data": {
      "application/vnd.jupyter.widget-view+json": {
       "model_id": "37a55f0f51724f358de68dd869f2b82a",
       "version_major": 2,
       "version_minor": 0
      },
      "text/plain": [
       "interactive(children=(IntSlider(value=8, description='new_value', max=10, min=1), Output()), _dom_classes=('wi…"
      ]
     },
     "metadata": {},
     "output_type": "display_data"
    },
    {
     "data": {
      "application/vnd.jupyter.widget-view+json": {
       "model_id": "900c128fc998469fad6cc6625d0f1b8e",
       "version_major": 2,
       "version_minor": 0
      },
      "text/plain": [
       "interactive(children=(IntSlider(value=0, description='t', max=39), Checkbox(value=False, description='with_val…"
      ]
     },
     "metadata": {},
     "output_type": "display_data"
    }
   ],
   "source": [
    "class InteractableColumnPrinter:\n",
    "    df: pd.DataFrame\n",
    "    initial_items_shown: int\n",
    "    number_of_items_shown: int\n",
    "    max_t: int\n",
    "    t_slider: IntSlider # parametric value\n",
    "\n",
    "    def __init__(self, df: pd.DataFrame):\n",
    "        self.df = df\n",
    "        self.initial_items_shown = 8\n",
    "        self.number_of_items_shown = self.initial_items_shown\n",
    "        self.max_t = len(df.columns) // self.number_of_items_shown + len(df.columns) % self.number_of_items_shown\n",
    "        self.t_slider = IntSlider(min=0, max=self.max_t, step=1, value=0)\n",
    "\n",
    "    def print_columns(self, t: int = 0, with_values: bool = False):\n",
    "        assert t >= 0, \"t must be not negative\"\n",
    "        assert self.number_of_items_shown > 0, \"number_of_items_shown must be positive\"\n",
    "\n",
    "        for c in self.df.columns[\n",
    "            self.number_of_items_shown*t : \n",
    "            self.number_of_items_shown*t + self.number_of_items_shown\n",
    "        ]:\n",
    "            print(c, self.df[c].values) if with_values else print(c)\n",
    "    \n",
    "    def update_number_of_items_shown(self, new_value: int):\n",
    "        self.number_of_items_shown = new_value\n",
    "        self.max_t = len(self.df.columns) // self.number_of_items_shown + len(self.df.columns) % self.number_of_items_shown\n",
    "        self.t_slider.max = self.max_t\n",
    "        print(f\"Number of items to show: {new_value}\")\n",
    "\n",
    "    def create_widgets(self):\n",
    "        \n",
    "        # Cria coleção de widgets\n",
    "        interact(\n",
    "            self.update_number_of_items_shown, # Função que roda ao interagir com um widget\n",
    "            new_value = IntSlider(min=1, max=10,  step=1, value=self.initial_items_shown),  # Cria widget IntSlider\n",
    "        )\n",
    "\n",
    "        # Cria coleção de widgets\n",
    "        interact(\n",
    "            self.print_columns, # Função que roda ao interagir com um widget\n",
    "            with_values=Checkbox(value=False), # Cria widget Checkbox\n",
    "            t = self.t_slider,  # Cria widget IntSlider\n",
    "        )\n",
    "\n",
    "column_printer = InteractableColumnPrinter(trial_response.results_df)\n",
    "column_printer.create_widgets()\n"
   ]
  },
  {
   "cell_type": "markdown",
   "metadata": {},
   "source": [
    "### Definição e run do PPO"
   ]
  },
  {
   "cell_type": "code",
   "execution_count": 7,
   "metadata": {},
   "outputs": [
    {
     "name": "stderr",
     "output_type": "stream",
     "text": [
      "2023-09-11 16:16:25,111\tWARNING algorithm_config.py:2558 -- Setting `exploration_config={}` because you set `_enable_rl_module_api=True`. When RLModule API are enabled, exploration_config can not be set. If you want to implement custom exploration behaviour, please modify the `forward_exploration` method of the RLModule at hand. On configs that have a default exploration config, this must be done with `config.exploration_config={}`.\n",
      "2023-09-11 16:16:25,116\tINFO tune.py:657 -- [output] This uses the legacy output and progress reporter, as Jupyter notebooks are not supported by the new engine, yet. For more information, please see https://github.com/ray-project/ray/issues/36949\n"
     ]
    },
    {
     "name": "stdout",
     "output_type": "stream",
     "text": [
      "Começou run PPO\n"
     ]
    },
    {
     "name": "stderr",
     "output_type": "stream",
     "text": [
      "c:\\Users\\victo\\Desktop\\RL\\.conda\\lib\\site-packages\\ray\\tune\\tune.py:258: UserWarning: Passing a `local_dir` is deprecated and will be removed in the future. Pass `storage_path` instead or set the `RAY_AIR_LOCAL_CACHE_DIR` environment variable instead.\n",
      "  warnings.warn(\n",
      "c:\\Users\\victo\\Desktop\\RL\\.conda\\lib\\site-packages\\ray\\tune\\tune.py:735: DeprecationWarning: checkpoint_freq is deprecated and will be removed. use checkpoint_config.checkpoint_frequency instead.\n",
      "  warnings.warn(\n"
     ]
    },
    {
     "data": {
      "text/html": [
       "<div class=\"tuneStatus\">\n",
       "  <div style=\"display: flex;flex-direction: row\">\n",
       "    <div style=\"display: flex;flex-direction: column;\">\n",
       "      <h3>Tune Status</h3>\n",
       "      <table>\n",
       "<tbody>\n",
       "<tr><td>Current time:</td><td>2023-09-11 16:21:33</td></tr>\n",
       "<tr><td>Running for: </td><td>00:05:08.32        </td></tr>\n",
       "<tr><td>Memory:      </td><td>10.7/15.9 GiB      </td></tr>\n",
       "</tbody>\n",
       "</table>\n",
       "    </div>\n",
       "    <div class=\"vDivider\"></div>\n",
       "    <div class=\"systemInfo\">\n",
       "      <h3>System Info</h3>\n",
       "      Using FIFO scheduling algorithm.<br>Logical resource usage: 5.0/12 CPUs, 0/1 GPUs (0.0/1.0 accelerator_type:G)\n",
       "    </div>\n",
       "    \n",
       "  </div>\n",
       "  <div class=\"hDivider\"></div>\n",
       "  <div class=\"trialStatus\">\n",
       "    <h3>Trial Status</h3>\n",
       "    <table>\n",
       "<thead>\n",
       "<tr><th>Trial name                                 </th><th>status  </th><th>loc            </th><th style=\"text-align: right;\">  iter</th><th style=\"text-align: right;\">  total time (s)</th><th style=\"text-align: right;\">  ts</th><th style=\"text-align: right;\">  reward</th><th style=\"text-align: right;\">  episode_reward_max</th><th style=\"text-align: right;\">  episode_reward_min</th><th style=\"text-align: right;\">  episode_len_mean</th></tr>\n",
       "</thead>\n",
       "<tbody>\n",
       "<tr><td>PPO_knights_archers_zombies_v10_b34a8_00000</td><td>RUNNING </td><td>127.0.0.1:18072</td><td style=\"text-align: right;\">     2</td><td style=\"text-align: right;\">         258.745</td><td style=\"text-align: right;\">1024</td><td style=\"text-align: right;\">     2.5</td><td style=\"text-align: right;\">                   4</td><td style=\"text-align: right;\">                   1</td><td style=\"text-align: right;\">             141.5</td></tr>\n",
       "</tbody>\n",
       "</table>\n",
       "  </div>\n",
       "</div>\n",
       "<style>\n",
       ".tuneStatus {\n",
       "  color: var(--jp-ui-font-color1);\n",
       "}\n",
       ".tuneStatus .systemInfo {\n",
       "  display: flex;\n",
       "  flex-direction: column;\n",
       "}\n",
       ".tuneStatus td {\n",
       "  white-space: nowrap;\n",
       "}\n",
       ".tuneStatus .trialStatus {\n",
       "  display: flex;\n",
       "  flex-direction: column;\n",
       "}\n",
       ".tuneStatus h3 {\n",
       "  font-weight: bold;\n",
       "}\n",
       ".tuneStatus .hDivider {\n",
       "  border-bottom-width: var(--jp-border-width);\n",
       "  border-bottom-color: var(--jp-border-color0);\n",
       "  border-bottom-style: solid;\n",
       "}\n",
       ".tuneStatus .vDivider {\n",
       "  border-left-width: var(--jp-border-width);\n",
       "  border-left-color: var(--jp-border-color0);\n",
       "  border-left-style: solid;\n",
       "  margin: 0.5em 1em 0.5em 1em;\n",
       "}\n",
       "</style>\n"
      ],
      "text/plain": [
       "<IPython.core.display.HTML object>"
      ]
     },
     "metadata": {},
     "output_type": "display_data"
    },
    {
     "name": "stderr",
     "output_type": "stream",
     "text": [
      "2023-09-11 16:16:25,140\tINFO experiment_state.py:407 -- Trying to find and download experiment checkpoint at c://\\Users\\victo\\Desktop\\RL\\ray_results\\knights_archers_zombies_v10\\PPO_notebook\n",
      "2023-09-11 16:16:25,150\tWARNING experiment_state.py:420 -- Got error when trying to sync down: Sync process failed: [WinError 3] Failed copying 'c:///Users/victo/Desktop/RL/ray_results/knights_archers_zombies_v10/PPO_notebook' to 'C:/Users/victo/ray_results/PPO_notebook'. Detail: [Windows error 3] O sistema n�o pode encontrar o caminho especificado.\n",
      " \n",
      "Please check this error message for potential access problems - if a directory was not found, that is expected at this stage when you're starting a new experiment.\n",
      "2023-09-11 16:16:25,151\tINFO experiment_state.py:427 -- No remote checkpoint was found or an error occurred when trying to download the experiment checkpoint. Please check the previous warning message for more details. Ray Tune will now start a new experiment.\n",
      "2023-09-11 16:16:25,171\tWARNING algorithm_config.py:2558 -- Setting `exploration_config={}` because you set `_enable_rl_module_api=True`. When RLModule API are enabled, exploration_config can not be set. If you want to implement custom exploration behaviour, please modify the `forward_exploration` method of the RLModule at hand. On configs that have a default exploration config, this must be done with `config.exploration_config={}`.\n",
      "\u001b[2m\u001b[36m(pid=18072)\u001b[0m c:\\Users\\victo\\Desktop\\RL\\.conda\\lib\\site-packages\\ray\\tune\\logger\\tensorboardx.py:41: DeprecationWarning: `np.bool8` is a deprecated alias for `np.bool_`.  (Deprecated NumPy 1.24)\n",
      "\u001b[2m\u001b[36m(pid=18072)\u001b[0m   VALID_NP_HPARAMS = (np.bool8, np.float32, np.float64, np.int32, np.int64)\n",
      "\u001b[2m\u001b[36m(pid=18072)\u001b[0m DeprecationWarning: `DirectStepOptimizer` has been deprecated. This will raise an error in the future!\n",
      "\u001b[2m\u001b[36m(PPO pid=18072)\u001b[0m 2023-09-11 16:16:38,046\tWARNING algorithm_config.py:2558 -- Setting `exploration_config={}` because you set `_enable_rl_module_api=True`. When RLModule API are enabled, exploration_config can not be set. If you want to implement custom exploration behaviour, please modify the `forward_exploration` method of the RLModule at hand. On configs that have a default exploration config, this must be done with `config.exploration_config={}`.\n",
      "\u001b[2m\u001b[36m(PPO pid=18072)\u001b[0m 2023-09-11 16:16:38,046\tWARNING algorithm_config.py:656 -- Cannot create PPOConfig from given `config_dict`! Property __stdout_file__ not supported.\n",
      "\u001b[2m\u001b[36m(pid=2836)\u001b[0m c:\\Users\\victo\\Desktop\\RL\\.conda\\lib\\site-packages\\ray\\tune\\logger\\tensorboardx.py:41: DeprecationWarning: `np.bool8` is a deprecated alias for `np.bool_`.  (Deprecated NumPy 1.24)\n",
      "\u001b[2m\u001b[36m(pid=2836)\u001b[0m   VALID_NP_HPARAMS = (np.bool8, np.float32, np.float64, np.int32, np.int64)\n",
      "\u001b[2m\u001b[36m(pid=6124)\u001b[0m c:\\Users\\victo\\Desktop\\RL\\.conda\\lib\\site-packages\\ray\\tune\\logger\\tensorboardx.py:41: DeprecationWarning: `np.bool8` is a deprecated alias for `np.bool_`.  (Deprecated NumPy 1.24)\n",
      "\u001b[2m\u001b[36m(pid=6124)\u001b[0m   VALID_NP_HPARAMS = (np.bool8, np.float32, np.float64, np.int32, np.int64)\n",
      "\u001b[2m\u001b[36m(pid=2836)\u001b[0m DeprecationWarning: `DirectStepOptimizer` has been deprecated. This will raise an error in the future!\n",
      "\u001b[2m\u001b[36m(RolloutWorker pid=2836)\u001b[0m c:\\Users\\victo\\Desktop\\RL\\.conda\\lib\\site-packages\\ray\\rllib\\models\\catalog.py:790: DeprecationWarning: `product` is deprecated as of NumPy 1.25.0, and will be removed in NumPy 2.0. Please use `prod` instead.\n",
      "\u001b[2m\u001b[36m(RolloutWorker pid=2836)\u001b[0m   prep = cls(observation_space, options)\n",
      "\u001b[2m\u001b[36m(RolloutWorker pid=2836)\u001b[0m   self._preprocessor = get_preprocessor(obs_space)(\n",
      "\u001b[2m\u001b[36m(PPO pid=18072)\u001b[0m Trainable.setup took 11.407 seconds. If your trainable is slow to initialize, consider setting reuse_actors=True to reduce actor creation overheads.\n"
     ]
    },
    {
     "data": {
      "text/html": [
       "<div class=\"trialProgress\">\n",
       "  <h3>Trial Progress</h3>\n",
       "  <table>\n",
       "<thead>\n",
       "<tr><th>Trial name                                 </th><th style=\"text-align: right;\">  agent_timesteps_total</th><th>connector_metrics                                                                                                                           </th><th>counters                                                                                                                  </th><th>custom_metrics  </th><th style=\"text-align: right;\">  episode_len_mean</th><th>episode_media  </th><th style=\"text-align: right;\">  episode_reward_max</th><th style=\"text-align: right;\">  episode_reward_mean</th><th style=\"text-align: right;\">  episode_reward_min</th><th style=\"text-align: right;\">  episodes_this_iter</th><th>info                                                                                                                                                                                                                                                                                                                                                                                                                                                                                                                                                                                                                                 </th><th style=\"text-align: right;\">  num_agent_steps_sampled</th><th style=\"text-align: right;\">  num_agent_steps_trained</th><th style=\"text-align: right;\">  num_env_steps_sampled</th><th style=\"text-align: right;\">  num_env_steps_sampled_this_iter</th><th style=\"text-align: right;\">  num_env_steps_sampled_throughput_per_sec</th><th style=\"text-align: right;\">  num_env_steps_trained</th><th style=\"text-align: right;\">  num_env_steps_trained_this_iter</th><th style=\"text-align: right;\">  num_env_steps_trained_throughput_per_sec</th><th style=\"text-align: right;\">  num_faulty_episodes</th><th style=\"text-align: right;\">  num_healthy_workers</th><th style=\"text-align: right;\">  num_in_flight_async_reqs</th><th style=\"text-align: right;\">  num_remote_worker_restarts</th><th style=\"text-align: right;\">  num_steps_trained_this_iter</th><th>perf                                                                                                                                </th><th>policy_reward_max  </th><th>policy_reward_mean  </th><th>policy_reward_min  </th><th>sampler_perf                                                                                                                                                                                                   </th><th>sampler_results                                                                                                                                                                                                                                                                                                                                                                                                                                                                                                                                                                                                                                                                                                                                                                             </th><th>timers                                                                                                 </th></tr>\n",
       "</thead>\n",
       "<tbody>\n",
       "<tr><td>PPO_knights_archers_zombies_v10_b34a8_00000</td><td style=\"text-align: right;\">                   1024</td><td>{&#x27;ObsPreprocessorConnector_ms&#x27;: 0.03733038902282715, &#x27;StateBufferConnector_ms&#x27;: 0.0, &#x27;ViewRequirementAgentConnector_ms&#x27;: 0.6462752819061279}</td><td>{&#x27;num_env_steps_sampled&#x27;: 1024, &#x27;num_env_steps_trained&#x27;: 0, &#x27;num_agent_steps_sampled&#x27;: 1024, &#x27;num_agent_steps_trained&#x27;: 0}</td><td>{}              </td><td style=\"text-align: right;\">             141.5</td><td>{}             </td><td style=\"text-align: right;\">                   4</td><td style=\"text-align: right;\">                  2.5</td><td style=\"text-align: right;\">                   1</td><td style=\"text-align: right;\">                   3</td><td>{&#x27;learner&#x27;: {&#x27;__all__&#x27;: {&#x27;num_agent_steps_trained&#x27;: 64.0, &#x27;num_env_steps_trained&#x27;: 512.0, &#x27;total_loss&#x27;: -0.16900024758651852}, &#x27;default_policy&#x27;: {&#x27;total_loss&#x27;: -0.16900024758651852, &#x27;policy_loss&#x27;: -0.0035169731825590135, &#x27;vf_loss&#x27;: 0.04138172760035559, &#x27;vf_loss_unclipped&#x27;: 0.04138172760035559, &#x27;vf_explained_var&#x27;: -0.14492907822132112, &#x27;entropy&#x27;: 1.7653888776898383, &#x27;mean_kl_loss&#x27;: 0.0035509729276554935, &#x27;curr_lr&#x27;: 2e-05, &#x27;curr_entropy_coeff&#x27;: 0.1, &#x27;curr_kl_coeff&#x27;: 0.10000000149011612}}, &#x27;num_env_steps_sampled&#x27;: 1024, &#x27;num_env_steps_trained&#x27;: 0, &#x27;num_agent_steps_sampled&#x27;: 1024, &#x27;num_agent_steps_trained&#x27;: 0}</td><td style=\"text-align: right;\">                     1024</td><td style=\"text-align: right;\">                        0</td><td style=\"text-align: right;\">                   1024</td><td style=\"text-align: right;\">                              512</td><td style=\"text-align: right;\">                                   4.02029</td><td style=\"text-align: right;\">                      0</td><td style=\"text-align: right;\">                                0</td><td style=\"text-align: right;\">                                         0</td><td style=\"text-align: right;\">                    0</td><td style=\"text-align: right;\">                    4</td><td style=\"text-align: right;\">                         0</td><td style=\"text-align: right;\">                           0</td><td style=\"text-align: right;\">                            0</td><td>{&#x27;cpu_util_percent&#x27;: 22.014193548387095, &#x27;ram_util_percent&#x27;: 66.60451612903226, &#x27;gpu_util_percent0&#x27;: 0.0, &#x27;vram_util_percent0&#x27;: 0.0}</td><td>{}                 </td><td>{}                  </td><td>{}                 </td><td>{&#x27;mean_raw_obs_processing_ms&#x27;: 2.276182176480483, &#x27;mean_inference_ms&#x27;: 37.044412918307714, &#x27;mean_action_processing_ms&#x27;: 0.30439941245851604, &#x27;mean_env_wait_ms&#x27;: 31.383464242043267, &#x27;mean_env_render_ms&#x27;: 0.0}</td><td>{&#x27;episode_reward_max&#x27;: 4.0, &#x27;episode_reward_min&#x27;: 1.0, &#x27;episode_reward_mean&#x27;: 2.5, &#x27;episode_len_mean&#x27;: 141.5, &#x27;episode_media&#x27;: {}, &#x27;episodes_this_iter&#x27;: 3, &#x27;policy_reward_min&#x27;: {}, &#x27;policy_reward_max&#x27;: {}, &#x27;policy_reward_mean&#x27;: {}, &#x27;custom_metrics&#x27;: {}, &#x27;hist_stats&#x27;: {&#x27;episode_reward&#x27;: [2.0, 4.0, 1.0, 3.0], &#x27;episode_lengths&#x27;: [122, 148, 148, 148]}, &#x27;sampler_perf&#x27;: {&#x27;mean_raw_obs_processing_ms&#x27;: 2.276182176480483, &#x27;mean_inference_ms&#x27;: 37.044412918307714, &#x27;mean_action_processing_ms&#x27;: 0.30439941245851604, &#x27;mean_env_wait_ms&#x27;: 31.383464242043267, &#x27;mean_env_render_ms&#x27;: 0.0}, &#x27;num_faulty_episodes&#x27;: 0, &#x27;connector_metrics&#x27;: {&#x27;ObsPreprocessorConnector_ms&#x27;: 0.03733038902282715, &#x27;StateBufferConnector_ms&#x27;: 0.0, &#x27;ViewRequirementAgentConnector_ms&#x27;: 0.6462752819061279}}</td><td>{&#x27;training_iteration_time_ms&#x27;: 129365.762, &#x27;sample_time_ms&#x27;: 9014.307, &#x27;synch_weights_time_ms&#x27;: 56.916}</td></tr>\n",
       "</tbody>\n",
       "</table>\n",
       "</div>\n",
       "<style>\n",
       ".trialProgress {\n",
       "  display: flex;\n",
       "  flex-direction: column;\n",
       "  color: var(--jp-ui-font-color1);\n",
       "}\n",
       ".trialProgress h3 {\n",
       "  font-weight: bold;\n",
       "}\n",
       ".trialProgress td {\n",
       "  white-space: nowrap;\n",
       "}\n",
       "</style>\n"
      ],
      "text/plain": [
       "<IPython.core.display.HTML object>"
      ]
     },
     "metadata": {},
     "output_type": "display_data"
    },
    {
     "name": "stderr",
     "output_type": "stream",
     "text": [
      "2023-09-11 16:21:33,464\tWARNING tune.py:192 -- Stop signal received (e.g. via SIGINT/Ctrl+C), ending Ray Tune run. This will try to checkpoint the experiment state one last time. Press CTRL+C (or send SIGINT/SIGKILL/SIGTERM) to skip. \n",
      "2023-09-11 16:21:33,482\tWARNING experiment_state.py:341 -- Experiment checkpoint syncing has been triggered multiple times in the last 30.0 seconds. A sync will be triggered whenever a trial has checkpointed more than `num_to_keep` times since last sync or if 300 seconds have passed since last sync. If you have set `num_to_keep` in your `CheckpointConfig`, consider increasing the checkpoint frequency or keeping more checkpoints. You can supress this warning by changing the `TUNE_WARN_EXCESSIVE_EXPERIMENT_CHECKPOINT_SYNC_THRESHOLD_S` environment variable.\n",
      "2023-09-11 16:21:43,578\tINFO tune.py:1148 -- Total run time: 318.46 seconds (308.30 seconds for the tuning loop).\n",
      "2023-09-11 16:21:43,579\tWARNING tune.py:1163 -- Experiment has been interrupted, but the most recent state was saved.\n",
      "Resume experiment with: tune.run(..., resume=True)\n"
     ]
    },
    {
     "name": "stdout",
     "output_type": "stream",
     "text": [
      "             episode_reward_max  episode_reward_min  episode_reward_mean  \\\n",
      "trial_id                                                                   \n",
      "b34a8_00000                 4.0                 1.0                  2.5   \n",
      "\n",
      "             episode_len_mean  episodes_this_iter  num_faulty_episodes  \\\n",
      "trial_id                                                                 \n",
      "b34a8_00000             141.5                   3                    0   \n",
      "\n",
      "             num_healthy_workers  num_in_flight_async_reqs  \\\n",
      "trial_id                                                     \n",
      "b34a8_00000                    4                         0   \n",
      "\n",
      "             num_remote_worker_restarts  num_agent_steps_sampled  ...  \\\n",
      "trial_id                                                          ...   \n",
      "b34a8_00000                           0                     1024  ...   \n",
      "\n",
      "             info/learner/default_policy/vf_loss  \\\n",
      "trial_id                                           \n",
      "b34a8_00000                             0.041382   \n",
      "\n",
      "             info/learner/default_policy/vf_loss_unclipped  \\\n",
      "trial_id                                                     \n",
      "b34a8_00000                                       0.041382   \n",
      "\n",
      "             info/learner/default_policy/vf_explained_var  \\\n",
      "trial_id                                                    \n",
      "b34a8_00000                                     -0.144929   \n",
      "\n",
      "             info/learner/default_policy/entropy  \\\n",
      "trial_id                                           \n",
      "b34a8_00000                             1.765389   \n",
      "\n",
      "             info/learner/default_policy/mean_kl_loss  \\\n",
      "trial_id                                                \n",
      "b34a8_00000                                  0.003551   \n",
      "\n",
      "             info/learner/default_policy/curr_lr  \\\n",
      "trial_id                                           \n",
      "b34a8_00000                              0.00002   \n",
      "\n",
      "             info/learner/default_policy/curr_entropy_coeff  \\\n",
      "trial_id                                                      \n",
      "b34a8_00000                                             0.1   \n",
      "\n",
      "             info/learner/default_policy/curr_kl_coeff  \\\n",
      "trial_id                                                 \n",
      "b34a8_00000                                        0.1   \n",
      "\n",
      "             config/tf_session_args/gpu_options/allow_growth  \\\n",
      "trial_id                                                       \n",
      "b34a8_00000                                             True   \n",
      "\n",
      "             config/tf_session_args/device_count/CPU  \n",
      "trial_id                                              \n",
      "b34a8_00000                                        1  \n",
      "\n",
      "[1 rows x 276 columns]\n"
     ]
    }
   ],
   "source": [
    "config = (\n",
    "    PPOConfig()\n",
    "    .environment(\n",
    "        env=env_name, \n",
    "        disable_env_checking=True # 'True' devido ao erro \"not passing checking\"\n",
    "    )\n",
    "    .rollouts(\n",
    "        num_rollout_workers=4, \n",
    "    )\n",
    "    .training(\n",
    "        train_batch_size=512,\n",
    "        lr=2e-5,\n",
    "        gamma=0.99,\n",
    "        lambda_=0.9,\n",
    "        use_gae=True,\n",
    "        grad_clip=None,\n",
    "        entropy_coeff=0.1,\n",
    "        vf_loss_coeff=0.25,\n",
    "        sgd_minibatch_size=64,\n",
    "        num_sgd_iter=10,\n",
    "    )\n",
    "    .debugging(log_level=\"ERROR\")\n",
    "    .framework(framework=\"torch\")\n",
    "    .resources(num_gpus=int(os.environ.get(\"RLLIB_NUM_GPUS\", \"0\")))\n",
    ")\n",
    "\n",
    "print(\"Começou run PPO\")\n",
    "PPO_trial_results = tune.run(\n",
    "    \"PPO\",\n",
    "    name=\"PPO_notebook\",\n",
    "    stop={\n",
    "        # Critério de parada do experimento\n",
    "        \"timesteps_total\": 5000\n",
    "    },\n",
    "    checkpoint_freq=10,\n",
    "    local_dir=\"C:\\\\Users\\\\victo\\\\Desktop\\\\RL\\\\ray_results\\\\\" + env_name,\n",
    "    config=config.to_dict(),\n",
    "    resume=\"AUTO\" # resume: [True, False, \"LOCAL\", \"REMOTE\", \"PROMPT\", \"AUTO\"] para continuar o treino de onde parou\n",
    ")\n",
    "\n",
    "print(PPO_trial_results.results_df)"
   ]
  }
 ],
 "metadata": {
  "kernelspec": {
   "display_name": "Python 3",
   "language": "python",
   "name": "python3"
  },
  "language_info": {
   "codemirror_mode": {
    "name": "ipython",
    "version": 3
   },
   "file_extension": ".py",
   "mimetype": "text/x-python",
   "name": "python",
   "nbconvert_exporter": "python",
   "pygments_lexer": "ipython3",
   "version": "3.9.17"
  },
  "orig_nbformat": 4
 },
 "nbformat": 4,
 "nbformat_minor": 2
}
